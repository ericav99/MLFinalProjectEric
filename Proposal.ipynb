{
 "cells": [
  {
   "cell_type": "markdown",
   "metadata": {},
   "source": [
    "# Rainfall Prediction in Australia"
   ]
  },
  {
   "cell_type": "markdown",
   "metadata": {},
   "source": [
    "## Team Members\n",
    "Eric Av and Caleb Cramer"
   ]
  },
  {
   "cell_type": "markdown",
   "metadata": {},
   "source": [
    "## Dataset Description\n",
    "\n",
    "1. **Source**:  [Australia Rain](https://www.kaggle.com/jsphyg/weather-dataset-rattle-package) and [Seattle Rain](https://www.kaggle.com/rtatman/did-it-rain-in-seattle-19482017/metadata)\n",
    "1. **Format**: CSV file\n",
    "1. **Contents**: This file contains weather data from 10 years across 49 cities in Australia. There are 145k rows and 23 columns in the first file. The second file contains weather data from Sea-Tac airport since 1948.\n",
    "1. **Column Names**: Date, Location, MinTemp, MaxTemp, Rainfall, Evaporation, Sunshine, WindGustDir, WindGustSpeed, WindDir9am, WindDir3pm, WindSpeed9am, WindSpeed3pm, Humidity9am, Humidity3pm, Pressure9am, Pressure3pm, Cloud9am, Cloud3pm, Temp9am, Temp3pm, RainToday \n",
    "1. **Class Label**: RainTomorrow, a Yes/No string which will tell us if it is going to rain tomorrow...\n"
   ]
  },
  {
   "cell_type": "markdown",
   "metadata": {},
   "source": [
    "## Implementation/ Technical Merit\n",
    "1. **Anticipated challenges in pre-processing and/or classification?**: Cleaning data and making more readable with additional functions. Perhaps a date organizer, location organizer. Also it has 145k rows which is larger than we have ever worked with before so debugging on this dataset will take a very long time\n",
    "1. **If the number of attributes is large, how will you explore feature selection techniques to pare down the attributes?**: We can see certain attributes that are mostly NA and some that have do not correspond directly with rainfall (wind direction). We can get rid of one of the wind direction attributes, since it is recorded twice daily) and the evaporation and sunshine attributes if we so desire."
   ]
  },
  {
   "cell_type": "markdown",
   "metadata": {},
   "source": [
    "## Potential impact of the results\n",
    "1. **Why should I care?**: These results can help us predict rainfall on a given day, week, even month averages due to the dataset being from 10 consecutive years all over Australia’s regions. Therefore this might have been useful when the fires were raging in Australia last year to forecast rain based on a previous years.\n",
    "1. **Who cares?**: Anyone who lives in Australia should care, even though the data is older. Fellow machine learning people. Meteorologists too."
   ]
  },
  {
   "cell_type": "code",
   "execution_count": null,
   "metadata": {},
   "outputs": [],
   "source": []
  }
 ],
 "metadata": {
  "kernelspec": {
   "display_name": "Python 3",
   "language": "python",
   "name": "python3"
  },
  "language_info": {
   "codemirror_mode": {
    "name": "ipython",
    "version": 3
   },
   "file_extension": ".py",
   "mimetype": "text/x-python",
   "name": "python",
   "nbconvert_exporter": "python",
   "pygments_lexer": "ipython3",
   "version": "3.8.5"
  }
 },
 "nbformat": 4,
 "nbformat_minor": 4
}
